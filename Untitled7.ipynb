{
 "cells": [
  {
   "cell_type": "code",
   "execution_count": 1,
   "id": "05e6a5d5",
   "metadata": {},
   "outputs": [
    {
     "name": "stdout",
     "output_type": "stream",
     "text": [
      "   Pregnant  Glucose  Diastolic_BP  Skin_Fold  Serum_Insulin   BMI  \\\n",
      "0         6    148.0          72.0       35.0            NaN  33.6   \n",
      "1         1     85.0          66.0       29.0            NaN  26.6   \n",
      "2         8    183.0          64.0        NaN            NaN  23.3   \n",
      "3         1     89.0          66.0       23.0           94.0  28.1   \n",
      "4         0    137.0          40.0       35.0          168.0  43.1   \n",
      "\n",
      "   Diabetes_Pedigree  Age  Class  \n",
      "0              0.627   50      1  \n",
      "1              0.351   31      0  \n",
      "2              0.672   32      1  \n",
      "3              0.167   21      0  \n",
      "4              2.288   33      1  \n",
      "\n",
      "Missing Data Counts:\n",
      "Pregnant               0\n",
      "Glucose                5\n",
      "Diastolic_BP          35\n",
      "Skin_Fold            227\n",
      "Serum_Insulin        374\n",
      "BMI                   11\n",
      "Diabetes_Pedigree      0\n",
      "Age                    0\n",
      "Class                  0\n",
      "dtype: int64\n"
     ]
    }
   ],
   "source": [
    "import pandas as pd\n",
    "\n",
    "# Load the dataset\n",
    "url = \"https://raw.githubusercontent.com/YBI-Foundation/Dataset/main/Diabetes%20Missing%20Data.csv\"\n",
    "data = pd.read_csv(url)\n",
    "print(data.head())\n",
    "\n",
    "# Get the missing data counts\n",
    "missing_data_counts = data.isnull().sum()\n",
    "print(\"\\nMissing Data Counts:\")\n",
    "print(missing_data_counts)"
   ]
  },
  {
   "cell_type": "code",
   "execution_count": null,
   "id": "d02d0096",
   "metadata": {},
   "outputs": [],
   "source": []
  }
 ],
 "metadata": {
  "kernelspec": {
   "display_name": "Python 3 (ipykernel)",
   "language": "python",
   "name": "python3"
  },
  "language_info": {
   "codemirror_mode": {
    "name": "ipython",
    "version": 3
   },
   "file_extension": ".py",
   "mimetype": "text/x-python",
   "name": "python",
   "nbconvert_exporter": "python",
   "pygments_lexer": "ipython3",
   "version": "3.11.6"
  }
 },
 "nbformat": 4,
 "nbformat_minor": 5
}
