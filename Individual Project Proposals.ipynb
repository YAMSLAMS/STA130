{
 "cells": [
  {
   "cell_type": "markdown",
   "id": "3e91e9ea",
   "metadata": {},
   "source": [
    "1. Research Question:\n",
    "\n",
    "Is there an association between how often somebody interacts with friends and how trapped they feel."
   ]
  },
  {
   "cell_type": "markdown",
   "id": "f1e4fa72",
   "metadata": {},
   "source": [
    "Variables:\n",
    "\n",
    "Predictor: \n",
    "- CONNECTION_activities_walk_p3m: In the PAST THREE MONTH\n",
    "- CONNECTION_activities_visited_friends_p3m\n",
    "Outcome: \n",
    "- WELLNESS_malach_pines_burnout_measure_trapped\n",
    "\n",
    "The predictor variables all have one thing in common: they quantify the number of positive interactions between friends. We can then visualize this data to determine if it correlates to how trapped somebody feels, hence the outcome variable."
   ]
  },
  {
   "cell_type": "markdown",
   "id": "2a914fcc",
   "metadata": {},
   "source": [
    "Visualizations:\n",
    "\n",
    "Since the outcome variable is categorical, then a box plot will be used with the x-axis having the possible answers to how trapped somebody feels and the y-axis containing one of the predictor variables. A violin plot will also be used."
   ]
  },
  {
   "cell_type": "markdown",
   "id": "5c42cc34",
   "metadata": {},
   "source": [
    "Analysis: \n",
    "\n",
    "With each predictor variable, we will first fit our model with ordinal logistic regression. Then, calculate the p-values. A bootstrapped analysis will create many fitted lines to construct a 95% confidence interval from the slopes and intercepts."
   ]
  },
  {
   "cell_type": "markdown",
   "id": "7d8cacf2",
   "metadata": {},
   "source": [
    "Assumptions:\n",
    "\n",
    "Assume the data collected are independent of one another."
   ]
  },
  {
   "cell_type": "markdown",
   "id": "af28aa47",
   "metadata": {},
   "source": [
    "Hypothesis:\n",
    "\n",
    "Null Hypothesis: No relationship exists between the frequency of interactions with friends and how trapped somebody feels.\n",
    "Alternate Hypothesis: A relationship exists between the frequency of interactions with friends and how trapped somebody feels."
   ]
  },
  {
   "cell_type": "markdown",
   "id": "77e3b4b0",
   "metadata": {},
   "source": [
    "Possible Results:\n",
    "\n",
    "P-Value <= 0.05 (Reject null hypothesis)\n",
    "P-Value > 0.05 (Fail to reject null hypothesis)"
   ]
  },
  {
   "cell_type": "markdown",
   "id": "9b40339e",
   "metadata": {},
   "source": [
    "Relevance to Question:\n",
    "\n",
    "If P-Value <= 0.05 (Reject null hypothesis), it can imply that social interactions impact feelings of entrapment. If P-Value > 0.05 (Fail to reject the null hypothesis), this suggests that other factors influence feelings of trappedness."
   ]
  },
  {
   "cell_type": "markdown",
   "id": "e3bb8d41",
   "metadata": {},
   "source": [
    "2. Research Question:\n",
    "\n",
    "Is there a correlation between how they feel about their life and how isolated somebody feels."
   ]
  },
  {
   "cell_type": "markdown",
   "id": "252a16d8",
   "metadata": {},
   "source": [
    "Variables:\n",
    "\n",
    "Outcome: \n",
    "- LONELY_ucla_loneliness_scale_left_out\n",
    "Predictor:\n",
    "- WELLNESS_life_satisfaction:\n",
    "\n",
    "The predictor variable measures how isolated somebody believes they are, tying closely with the latter part of the research question, and the outcome variable measures how somebody feels about their life on a scale from 1 to 10. This will fit with the first part of the research question."
   ]
  },
  {
   "cell_type": "markdown",
   "id": "2016d890",
   "metadata": {},
   "source": [
    "Visualization:\n",
    "\n",
    "A bar plot will be used to see the data distinctly. For more information, a box plot will be used. Since the predictor variable is continuous and the outcome is categorical, the variables will represent the y-axis and x-axis, respectively."
   ]
  },
  {
   "cell_type": "markdown",
   "id": "c5e6f74a",
   "metadata": {},
   "source": [
    "Analysis:\n",
    "\n",
    "A linear regression analysis will be used. By modelling the data in a scatterplot and then creating a fitted model of the standard model, the R-squared, residuals, and p-value will be assessed."
   ]
  },
  {
   "cell_type": "markdown",
   "id": "91f8b19d",
   "metadata": {},
   "source": [
    "Assumption:\n",
    "\n",
    "The residuals of the model are independent of one another and are spread similarly regardless of the predictor value. The relationship between the predictor and outcome variable is also linear."
   ]
  },
  {
   "cell_type": "markdown",
   "id": "eb7c2c18",
   "metadata": {},
   "source": [
    "Hypothesis:\n",
    "\n",
    "Null Hypothesis: No relationship exists between the frequency of interactions with friends and how trapped somebody feels.\n",
    "Alternate Hypothesis: A relationship exists between the frequency of interactions with friends and how trapped somebody feels."
   ]
  },
  {
   "cell_type": "markdown",
   "id": "d3fabee4",
   "metadata": {},
   "source": [
    "Possible Results:\n",
    "\n",
    "P-Value <= 0.05 (Reject null hypothesis)\n",
    "P-Value > 0.05 (Fail to reject null hypothesis)"
   ]
  },
  {
   "cell_type": "markdown",
   "id": "d6ab8c0c",
   "metadata": {},
   "source": [
    "Relevance to Question:\n",
    "\n",
    "If P-Value <= 0.05 (Reject null hypothesis), it can imply why one's feelings about their life trajectory impact how isolated they are. If P-Value > 0.05 (Fail to reject the null hypothesis), this would suggest that other factors, aside from their own opinion on their life, influence feelings of isolation."
   ]
  },
  {
   "cell_type": "markdown",
   "id": "6f9b0321",
   "metadata": {},
   "source": [
    "3. Research Question:\n",
    "\n",
    "Is there a correlation between the number of close friends somebody has and if a person feels lonely or not."
   ]
  },
  {
   "cell_type": "markdown",
   "id": "94870103",
   "metadata": {},
   "source": [
    "Variables:\n",
    "\n",
    "Predictor: \n",
    "- CONNECTION_social_num_close_friends_grouped\n",
    "Outcome:\n",
    "- LONELY_direct:\n",
    "\n",
    "The predictor variable quantifies the number of close friends a person has. An analysis will be done to see if they are lonely, hence the outcome variable."
   ]
  },
  {
   "cell_type": "markdown",
   "id": "a952a216",
   "metadata": {},
   "source": [
    "Visualizations:\n",
    "\n",
    "A bar plot will be used since the outcome variable is non-continuous and the predictor value is smaller numbers."
   ]
  },
  {
   "cell_type": "markdown",
   "id": "698c7817",
   "metadata": {},
   "source": [
    "Analysis:\n",
    "\n",
    "Bootstrapped sampling will be used. The coefficients' mean, standard deviation, and percentiles will be calculated to get a sense of the distribution. Furthermore, a 95% confidence interval will be created."
   ]
  },
  {
   "cell_type": "markdown",
   "id": "0e95e02b",
   "metadata": {},
   "source": [
    "Assumptions:\n",
    "\n",
    "Assume observations are independent of one another and no multicollinearity."
   ]
  },
  {
   "cell_type": "markdown",
   "id": "5f7a30c2",
   "metadata": {},
   "source": [
    "Hypothesis:\n",
    "\n",
    "Null Hypothesis: There is no correlation between the number of close friends somebody has and whether they are lonely or not.\n",
    "Alternate Hypothesis: There is a correlation between the number of close friends somebody has and whether they are lonely or not."
   ]
  },
  {
   "cell_type": "markdown",
   "id": "99f4b9aa",
   "metadata": {},
   "source": [
    "Possible Results:\n",
    "\n",
    "The statistics fall within the 95% confidence interval."
   ]
  },
  {
   "cell_type": "markdown",
   "id": "5feba178",
   "metadata": {},
   "source": [
    "Relevance to Question:\n",
    "\n",
    "There is likely a meaningful relationship between the number of close friends and feelings of loneliness"
   ]
  }
 ],
 "metadata": {
  "kernelspec": {
   "display_name": "Python 3 (ipykernel)",
   "language": "python",
   "name": "python3"
  },
  "language_info": {
   "codemirror_mode": {
    "name": "ipython",
    "version": 3
   },
   "file_extension": ".py",
   "mimetype": "text/x-python",
   "name": "python",
   "nbconvert_exporter": "python",
   "pygments_lexer": "ipython3",
   "version": "3.11.6"
  }
 },
 "nbformat": 4,
 "nbformat_minor": 5
}
