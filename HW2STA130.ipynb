{
 "cells": [
  {
   "cell_type": "code",
   "execution_count": 1,
   "id": "ff043450",
   "metadata": {},
   "outputs": [
    {
     "name": "stdout",
     "output_type": "stream",
     "text": [
      "0.66832\n"
     ]
    }
   ],
   "source": [
    "import numpy as np\n",
    "\n",
    "all_door_options = (1, 2, 3)\n",
    "my_door_choice = 1\n",
    "i_won = 0\n",
    "reps = 100000\n",
    "\n",
    "for i in range(reps):\n",
    "    secret_winning_door = np.random.choice(all_door_options)\n",
    "\n",
    "    # If my choice is the winning door, host will show one of the two remaining doors\n",
    "    # If my choice is not the winning door, the host will show the only remaining \"goat\" door\n",
    "    remaining_doors = [door for door in all_door_options if door != my_door_choice and door != secret_winning_door]\n",
    "    \n",
    "    # Simulate the swap by choosing the only other door (which must either be the winning or the remaining goat door)\n",
    "    my_door_choice = [door for door in all_door_options if door != my_door_choice and door != remaining_doors[0]][0]\n",
    "    \n",
    "    \n",
    "    #If the final door choice is the winning door, increase counter by 1.\n",
    "    if my_door_choice == secret_winning_door:\n",
    "        i_won += 1\n",
    "\n",
    "print(i_won / reps)\n"
   ]
  },
  {
   "cell_type": "markdown",
   "id": "92191876",
   "metadata": {},
   "source": [
    "As someone who is quasi familiar to pytthon code I like the chatbots revised version off the Monty code. The reducction the number of lines  of  code made it less daunting to read and tthe removal of try-except blocks makes  the logic more straightforawrd witth only ifs and else"
   ]
  },
  {
   "cell_type": "code",
   "execution_count": null,
   "id": "5a9a58e5",
   "metadata": {},
   "outputs": [],
   "source": [
    "from IPython.display import YouTubeVideo\n",
    "YouTubeVideo('56mGTszb_iM', width = 550)"
   ]
  },
  {
   "cell_type": "markdown",
   "id": "05b80b74",
   "metadata": {},
   "source": [
    "The chatbot was helpful for the questions above. I was confused on how Markovian chatbots worked and the chatbot was able to answer my questions at my level and was even able to give me examples."
   ]
  },
  {
   "cell_type": "markdown",
   "id": "4de8825d",
   "metadata": {},
   "source": [
    "Even though the chatbots game me exampels with their explanations, these examples werent always right. Luckily I knew the general concept based around my questions so I caught the mistakes and told the chatbot to fix it whcih they did, however it was annoying how I had proof read a very long chatlog in order to see why the respsne didnt add up."
   ]
  },
  {
   "cell_type": "markdown",
   "id": "2f3eecb0",
   "metadata": {},
   "source": [
    "My overall experience with using chatbots to hellp me with coding errors in the course and outside of this coursse has been great. Chatbots are fast, efficeint, and usually dont make mistakes, so long as my line of questioning isnt so complex or \"human\"."
   ]
  },
  {
   "cell_type": "markdown",
   "id": "10cd5fcc",
   "metadata": {},
   "source": [
    "My percepetion of AI tools to help teach me with coding or datascience hasnt changed much since I've started this course. This is mostly becuase during highschool I really tapped into how useful AI tools can be whether it be with ChatGPT, Grammarly or Quilbot. I see AI learning tools as great tools for learning something quick or for doing a tedios task. But for mroe far reaching topics or things, I dont rely on AI often but on my peers or teachers around me."
   ]
  },
  {
   "cell_type": "markdown",
   "id": "4545b8d8",
   "metadata": {},
   "source": [
    "Chatbot summary for question 8: You’re interested in potentially becoming an actuary and have a strong math background, but aren’t very confident in coding. We discussed the key skills needed for the actuarial field, such as mastery in probability, statistics, and financial mathematics, as well as preparing for actuarial exams (starting with Exam P and Exam FM).\n",
    "\n",
    "You should also develop proficiency in Excel and consider learning some basic coding (e.g., R or Python) for modeling. In addition, understanding business, economics, and risk management will be helpful. Strong communication skills are important for explaining complex analyses to non-technical stakeholders.\n",
    "\n",
    "Your math skills give you a solid foundation, and with time and effort, you could successfully pursue a career as an actuary."
   ]
  },
  {
   "cell_type": "markdown",
   "id": "dfd24352",
   "metadata": {},
   "source": [
    "From my conversation with the chatbot, I beleive it is in my best interst to remain willing to learn data anylsis and how to code. Being an actuary requries an knack for mathemeaticcs which I think I have, as well as the abiltiy to work in a professional setting and conducct myself proeprly which I need to be better at. Furthermore in order to pursue any dream of mine I need to be willing to maybe take improberapl risks (which is ironic since I want to be an actuary) to get to the next step, which requires courage that I need to get more of."
   ]
  },
  {
   "cell_type": "markdown",
   "id": "11535f7b",
   "metadata": {},
   "source": [
    "I think that the \"conversation\" was helpful. I found the cchat and most chatbots to overly kind, which does get old sometimes becausd I dont know if its honest, however when talking about my ffurture aspirations I think its great to hear a very postive response all the time."
   ]
  },
  {
   "cell_type": "markdown",
   "id": "79d70f9d",
   "metadata": {},
   "source": [
    "Chatbot Summary: You’re interested in potentially becoming an actuary and have a strong math background, but aren’t very confident in coding. We discussed the key skills needed for the actuarial field, such as mastery in probability, statistics, and financial mathematics, as well as preparing for actuarial exams (starting with Exam P and Exam FM).\n",
    "\n",
    "You should also develop proficiency in Excel and consider learning some basic coding (e.g., R or Python) for modeling. In addition, understanding business, economics, and risk management will be helpful. Strong communication skills are important for explaining complex analyses to non-technical stakeholders.\n",
    "\n",
    "Your math skills give you a solid foundation, and with time and effort, you could successfully pursue a career as an actuary.\n",
    "\n",
    "Link: https://chatgpt.com/c/66e8cec5-7814-800c-9fd8-fc607411b366"
   ]
  },
  {
   "cell_type": "markdown",
   "id": "2f521bb8",
   "metadata": {},
   "source": [
    "Other Chatbots:\n",
    "\n",
    "Chatbot 1 Summary: You shared a Monte Hall simulation code by Prof. Schwartz and asked for an explanation of how it works. I explained that the code simulates the Monty Hall problem using a \"switching\" strategy, describing each step in detail, including the initialization, the main loop where the doors are managed, and how the win condition is checked.\n",
    "\n",
    "You then asked how to make the code more efficient. I provided an optimized version that reduces unnecessary list operations, simplifies door selection using direct comparisons, and eliminates redundant code, making the simulation cleaner and faster.\n",
    "\n",
    "Link: https://chatgpt.com/c/66e8af36-9b28-800c-afcd-b25d1da4219f\n",
    "\n",
    "Chatbot 2 Summary: Here's a summary of our conversation:\n",
    "\n",
    "Markov Chain Code Explanation: We discussed a Go code implementing a Markov chain with states represented by integers. The TestNewChainChan function tested transitions and probabilities between states based on a sequence of integers.\n",
    "\n",
    "Character-Specific Markov Chains: You asked about extending the code to handle character-specific Markov chains using bigram dependencies. This involves modeling transitions between characters, where each character is a state, and transitions are determined based on observed bigrams.\n",
    "\n",
    "Example of Running the Code: I walked through how running the test code would look, explaining expected transitions and what output would look like if the test passed or failed. We discussed how the sequence 'a', 'b', 'a', 'c', 'b', 'a', 'd' would produce specific state transitions and probabilities.\n",
    "\n",
    "Character-Specific Markov Chains Explanation: We explored what character-specific Markov chains are, how they model character sequences by learning transitions between characters, and their applications, like text generation.\n",
    "\n",
    "Let me know if you need any further details or clarifications!\n",
    "\n",
    "Link: https://chatgpt.com/c/66e8b509-d594-800c-b3b7-510662b0cc1a\n",
    "\n",
    "Chatbot 3 Summary: \n",
    "Here's a summary of our conversation:\n",
    "\n",
    "Markov Chain Testing: You shared code for testing a Markov chain implementation using integer states (testingState). We discussed ways to improve the tests, including refining error messages, adding edge cases, and ensuring robust handling of transitions and probabilities.\n",
    "\n",
    "Extended Version: You introduced an extended version of the Markov chain with character states (charState), focusing on bigram dependencies. The test function TestCharMarkovChain was designed to validate the correct creation of the chain, with expected transitions and probabilities for each character state.\n",
    "\n",
    "Character-Specific Markov Chains: We confirmed that the code is capable of creating character-specific Markov chains, provided that the NewChainChan function correctly counts transitions and computes probabilities based on the observed character sequences. I outlined an implementation approach for NewChainChan that counts transitions and constructs the Markov chain for character states.\n",
    "\n",
    "If you need further assistance or specific adjustments, feel free to ask!\n",
    "\n",
    "Link: https://chatgpt.com/c/66e8b8ef-ceec-800c-b185-15cc8ccbfcc7"
   ]
  },
  {
   "cell_type": "code",
   "execution_count": null,
   "id": "6f638ff1",
   "metadata": {},
   "outputs": [],
   "source": []
  },
  {
   "cell_type": "code",
   "execution_count": null,
   "id": "2e56a35f",
   "metadata": {},
   "outputs": [],
   "source": []
  }
 ],
 "metadata": {
  "kernelspec": {
   "display_name": "Python 3 (ipykernel)",
   "language": "python",
   "name": "python3"
  },
  "language_info": {
   "codemirror_mode": {
    "name": "ipython",
    "version": 3
   },
   "file_extension": ".py",
   "mimetype": "text/x-python",
   "name": "python",
   "nbconvert_exporter": "python",
   "pygments_lexer": "ipython3",
   "version": "3.11.6"
  }
 },
 "nbformat": 4,
 "nbformat_minor": 5
}
